{
 "cells": [
  {
   "cell_type": "markdown",
   "id": "2cbecf68",
   "metadata": {},
   "source": [
    "## Federated Data Pipeline"
   ]
  },
  {
   "cell_type": "code",
   "execution_count": 1,
   "id": "06734901",
   "metadata": {
    "ExecuteTime": {
     "end_time": "2022-06-15T09:25:45.038864Z",
     "start_time": "2022-06-15T09:25:44.637373Z"
    },
    "scrolled": true
   },
   "outputs": [],
   "source": [
    "import torch\n",
    "from torch import nn"
   ]
  },
  {
   "cell_type": "code",
   "execution_count": 2,
   "id": "03a70480",
   "metadata": {
    "ExecuteTime": {
     "end_time": "2022-06-15T09:25:45.045430Z",
     "start_time": "2022-06-15T09:25:45.039937Z"
    }
   },
   "outputs": [],
   "source": [
    "class Client:\n",
    "    def __init__(self, client_id, data):\n",
    "        self.items_embeddings = dict()\n",
    "        self.user_embedding = None\n",
    "        self.neighbor_embeddings = []\n",
    "        self.items_rated = data\n",
    "        self.old_embeddings = None\n",
    "        self.id = client_id\n",
    "    \n",
    "    def initialize_embeddings(self, items_embeddings):\n",
    "        self.user_embedding = torch.nn.init.xavier_uniform_(torch.empty(1, 256))\n",
    "        self.update_embeddings(items_embeddings)\n",
    "    \n",
    "    def update_embeddings(self, items_embedding):\n",
    "        self.items_embeddings = items_embedding[items_embedding['movieId'].isin(self.items_rated[\"movieId\"])]\n",
    "            \n",
    "    def get_embeddings(self):\n",
    "        return self.items_embeddings\n",
    "    \n",
    "    def get_rated_items_list(self):\n",
    "        return self.items_rated[\"movieId\"]\n",
    "    \n",
    "    def generate_graph(self):\n",
    "        list_a = [0]*(len(self.items_rated)) + [i for i in range(1, len(self.items_rated)+1)]\n",
    "        list_b = [i for i in range(1, len(self.items_rated)+1)]+[0]*(len(self.items_rated)) \n",
    "        edge_index = torch.tensor([list_a,\n",
    "                           list_b], dtype=torch.long)\n",
    "        x = [self.user_embedding.numpy()[0], ]\n",
    "        item_emb = self.items_embeddings['embeddings'].values\n",
    "        x += [item_emb[i] for i in range(len(item_emb))] \n",
    "        x = torch.tensor(x, dtype=torch.float)\n",
    "        \n",
    "        y = torch.tensor(self.items_rated['rating'].values)\n",
    "        \n",
    "        return x, y, edge_index\n",
    "    \n",
    "    def __str__(self):\n",
    "        return repr(self.items_rated)\n",
    "        "
   ]
  },
  {
   "cell_type": "code",
   "execution_count": 3,
   "id": "6828917b",
   "metadata": {
    "ExecuteTime": {
     "end_time": "2022-06-15T09:25:45.058383Z",
     "start_time": "2022-06-15T09:25:45.046962Z"
    }
   },
   "outputs": [],
   "source": [
    "class Server:\n",
    "    def __init__(self, items):\n",
    "        self.items = items        \n",
    "        self.items_embeddings = dict()\n",
    "    \n",
    "    def generate_item_embeddings(self):\n",
    "        embeddings = torch.nn.init.xavier_uniform_(torch.empty(self.items.shape[0], 256))\n",
    "        df = pd.DataFrame({\"id\": np.arange(1, embeddings.shape[0]+1)})\n",
    "        df[\"embeddings\"] = list(embeddings.numpy())\n",
    "        self.items_embeddings = pd.concat([self.items['movieId'], df[\"embeddings\"]], axis=1)\n",
    "        return self.items_embeddings\n",
    "    \n",
    "    def get_item_embeddings(self):\n",
    "        return self.items_embeddings   \n",
    "        "
   ]
  },
  {
   "cell_type": "code",
   "execution_count": 4,
   "id": "f38451f7",
   "metadata": {
    "ExecuteTime": {
     "end_time": "2022-06-15T09:25:45.063431Z",
     "start_time": "2022-06-15T09:25:45.059751Z"
    },
    "scrolled": true
   },
   "outputs": [],
   "source": [
    "import numpy as np\n",
    "import pandas as pd\n",
    "import random\n",
    "\n",
    "class Pipeline:\n",
    "\n",
    "    def __init__(self):\n",
    "        self.server = None\n",
    "        self.clients = None\n",
    "\n",
    "    def initialize_clients(self, client_count=128):\n",
    "        data = pd.read_csv('../ml-latest-small/ratings.csv')\n",
    "        data.drop('timestamp', inplace=True, axis=1)\n",
    "        random.sample(range(1, 611), client_count)\n",
    "        self.clients = []\n",
    "        for i in range(1, client_count+1):\n",
    "            data_i = data[data['userId'] == i]\n",
    "            client_i = Client(i, data_i)\n",
    "            client_i.initialize_embeddings(self.server.get_item_embeddings())\n",
    "            self.clients.append(client_i)\n",
    "        self.clients = pd.DataFrame(self.clients, columns=['clients'])\n",
    "        return self.clients\n",
    "    \n",
    "    def initialize_server(self):\n",
    "        items = pd.read_csv('../ml-latest-small/movies.csv')\n",
    "        self.server = Server(items)\n",
    "        embeddings = self.server.generate_item_embeddings()\n",
    "        return embeddings\n",
    "        \n",
    "    def get_embeddings(self):\n",
    "        return self.server.get_item_embeddings()\n"
   ]
  },
  {
   "cell_type": "markdown",
   "id": "10fb4df8",
   "metadata": {
    "ExecuteTime": {
     "end_time": "2022-06-12T14:19:17.329920Z",
     "start_time": "2022-06-12T14:19:17.328039Z"
    }
   },
   "source": [
    "## GAT IMPLEMENTATION"
   ]
  },
  {
   "cell_type": "code",
   "execution_count": 5,
   "id": "a76ccd75",
   "metadata": {
    "ExecuteTime": {
     "end_time": "2022-06-15T09:25:45.414750Z",
     "start_time": "2022-06-15T09:25:45.064452Z"
    }
   },
   "outputs": [],
   "source": [
    "import numpy as np\n",
    "import torch\n",
    "import torch.nn as nn\n",
    "import torch.nn.functional as F\n",
    "from torch_geometric.nn import GATv2Conv, GATConv\n",
    "from torch.autograd import Variable"
   ]
  },
  {
   "cell_type": "code",
   "execution_count": 6,
   "id": "cbe8428d",
   "metadata": {
    "ExecuteTime": {
     "end_time": "2022-06-15T09:25:45.419722Z",
     "start_time": "2022-06-15T09:25:45.415813Z"
    }
   },
   "outputs": [],
   "source": [
    "class GAT(torch.nn.Module):\n",
    "    def __init__(self):\n",
    "        super(GAT, self).__init__()\n",
    "        self.hidden_channels = 256\n",
    "        self.headsv1 = 4\n",
    "        self.headsv2 = 1\n",
    " \n",
    "        self.conv1 = GATConv(in_channels=256, out_channels=self.hidden_channels, \n",
    "                               heads=self.headsv1, dropout=0.2)\n",
    "#         self.conv2 = GATv2Conv(in_channels=self.hidden_channels*self.headsv1, out_channels=self.hidden_channels,\n",
    "#                              heads=self.headsv2, dropout=0.6, concat=False,)\n",
    "\n",
    "    def forward(self, data):\n",
    "        x, edge_index = data.x, data.edge_index  \n",
    "        x_in = Variable(x, requires_grad=True)\n",
    "        x = F.dropout(x_in, p=0.2, training=self.training) \n",
    "        x = self.conv1(x, edge_index)                   \n",
    "        x = F.elu(x)\n",
    "        \n",
    "        y = x[0,:] * x[1:,:]\n",
    "        y = torch.sum(y, dim=1, dtype=float)\n",
    "        y = F.relu(y)\n",
    "        y.retain_grad()\n",
    "        return x_in, y\n",
    "    \n",
    "    "
   ]
  },
  {
   "cell_type": "markdown",
   "id": "08ff49fb",
   "metadata": {},
   "source": [
    "## Driver Code for Training on Client"
   ]
  },
  {
   "cell_type": "code",
   "execution_count": 7,
   "id": "35429dd2",
   "metadata": {
    "ExecuteTime": {
     "end_time": "2022-06-15T09:25:45.431998Z",
     "start_time": "2022-06-15T09:25:45.420707Z"
    }
   },
   "outputs": [],
   "source": [
    "import torch\n",
    "from torch_geometric.data import Data"
   ]
  },
  {
   "cell_type": "code",
   "execution_count": 8,
   "id": "c0267b2f",
   "metadata": {
    "ExecuteTime": {
     "end_time": "2022-06-15T09:25:45.564725Z",
     "start_time": "2022-06-15T09:25:45.432934Z"
    },
    "scrolled": true
   },
   "outputs": [],
   "source": [
    "pipeline = Pipeline()\n",
    "server = pipeline.initialize_server()\n",
    "clients = pipeline.initialize_clients()['clients'].values\n",
    "device = torch.device('cuda' if torch.cuda.is_available() else 'cpu')\n",
    "\n",
    "# print(f\"Edge count: {data.num_edges}\\nNode Count: {data.num_nodes}\\nNode Features: {data.num_features}\")"
   ]
  },
  {
   "cell_type": "code",
   "execution_count": 9,
   "id": "5a120c7e",
   "metadata": {
    "ExecuteTime": {
     "end_time": "2022-06-15T09:25:48.762614Z",
     "start_time": "2022-06-15T09:25:45.565777Z"
    }
   },
   "outputs": [
    {
     "name": "stderr",
     "output_type": "stream",
     "text": [
      "/tmp/ipykernel_15006/2511046477.py:31: UserWarning: Creating a tensor from a list of numpy.ndarrays is extremely slow. Please consider converting the list to a single numpy.ndarray with numpy.array() before converting to a tensor. (Triggered internally at  /opt/conda/conda-bld/pytorch_1648016052946/work/torch/csrc/utils/tensor_new.cpp:198.)\n",
      "  x = torch.tensor(x, dtype=torch.float)\n"
     ]
    },
    {
     "name": "stdout",
     "output_type": "stream",
     "text": [
      "Epoch 0 Loss:\n",
      "4.430629292758412\n",
      "Epoch 50 Loss:\n",
      "0.6968105855535429\n",
      "Epoch 100 Loss:\n",
      "0.3507655472768589\n",
      "Epoch 150 Loss:\n",
      "0.43328798527692974\n",
      "Epoch 200 Loss:\n",
      "0.27433861626532857\n",
      "Epoch 250 Loss:\n",
      "0.4359075767340519\n"
     ]
    }
   ],
   "source": [
    "lr=0.01\n",
    "model = GAT().to(device)\n",
    "optimizer = torch.optim.Adam(model.parameters(), lr=lr, weight_decay=5e-4)\n",
    "model.train()\n",
    "\n",
    "\n",
    "x, y, edge_index = clients[0].generate_graph()\n",
    "data = Data(x=x, edge_index=edge_index)\n",
    "data = data.to(device)\n",
    "for epoch in range(300):\n",
    "    optimizer.zero_grad()\n",
    "    x, out = model(data)\n",
    "\n",
    "    criterion = nn.MSELoss()\n",
    "    loss = torch.sqrt(criterion(out, y))\n",
    "    if epoch%50==0:\n",
    "        print(f\"Epoch {epoch} Loss:\\n{loss}\")\n",
    "\n",
    "    loss.backward()\n",
    "    torch.nn.utils.clip_grad_norm_(model.parameters(), 0.1)\n",
    "    optimizer.step()  \n",
    "    data.x -= lr*x.grad\n",
    "        \n",
    "    "
   ]
  },
  {
   "cell_type": "markdown",
   "id": "c128eb43",
   "metadata": {},
   "source": [
    "## Evaluating Model"
   ]
  },
  {
   "cell_type": "code",
   "execution_count": 10,
   "id": "4133c6f4",
   "metadata": {
    "ExecuteTime": {
     "end_time": "2022-06-15T09:25:48.773923Z",
     "start_time": "2022-06-15T09:25:48.764047Z"
    }
   },
   "outputs": [
    {
     "name": "stdout",
     "output_type": "stream",
     "text": [
      "Actual:  tensor([4., 4., 4., 5., 5., 3., 5., 4., 5., 5.], dtype=torch.float64)\n",
      "Predicted:  tensor([4., 4., 4., 5., 5., 3., 5., 4., 5., 5.], dtype=torch.float64)\n",
      "Accuracy: 1.0000\n"
     ]
    }
   ],
   "source": [
    "model.eval()\n",
    "_, pred = model(data)\n",
    "pred = torch.round(pred.data)\n",
    "\n",
    "print(\"Actual: \", y[:10])\n",
    "print(\"Predicted: \", pred[:10])\n",
    "\n",
    "correct = float(pred.eq(y).sum().item())\n",
    "acc = correct / len(y)\n",
    "print('Accuracy: {:.4f}'.format(acc))"
   ]
  }
 ],
 "metadata": {
  "kernelspec": {
   "display_name": "Python 3 (ipykernel)",
   "language": "python",
   "name": "python3"
  },
  "language_info": {
   "codemirror_mode": {
    "name": "ipython",
    "version": 3
   },
   "file_extension": ".py",
   "mimetype": "text/x-python",
   "name": "python",
   "nbconvert_exporter": "python",
   "pygments_lexer": "ipython3",
   "version": "3.9.12"
  }
 },
 "nbformat": 4,
 "nbformat_minor": 5
}
