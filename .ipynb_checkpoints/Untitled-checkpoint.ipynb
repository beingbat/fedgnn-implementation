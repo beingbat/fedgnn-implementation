{
 "cells": [
  {
   "cell_type": "code",
   "execution_count": 5,
   "id": "8bed7058",
   "metadata": {
    "ExecuteTime": {
     "end_time": "2022-07-09T10:54:50.890201Z",
     "start_time": "2022-07-09T10:54:50.886044Z"
    }
   },
   "outputs": [
    {
     "data": {
      "text/plain": [
       "[136, 307, 513, 486, 184, 385, 79, 352, 559, 209]"
      ]
     },
     "execution_count": 5,
     "metadata": {},
     "output_type": "execute_result"
    }
   ],
   "source": [
    "import random\n",
    "\n",
    "TOTAL_CLIENTS = 610\n",
    "random.sample(range(1, TOTAL_CLIENTS+1), TOTAL_CLIENTS)[:10]"
   ]
  },
  {
   "cell_type": "code",
   "execution_count": 7,
   "id": "91c64c87",
   "metadata": {
    "ExecuteTime": {
     "end_time": "2022-07-09T10:55:14.595036Z",
     "start_time": "2022-07-09T10:55:14.589370Z"
    }
   },
   "outputs": [
    {
     "name": "stdout",
     "output_type": "stream",
     "text": [
      "427\n"
     ]
    }
   ],
   "source": [
    "print(round(TOTAL_CLIENTS*0.7))\n"
   ]
  },
  {
   "cell_type": "code",
   "execution_count": 20,
   "id": "19da6b29",
   "metadata": {
    "ExecuteTime": {
     "end_time": "2022-07-09T14:05:37.080069Z",
     "start_time": "2022-07-09T14:05:37.050975Z"
    }
   },
   "outputs": [],
   "source": [
    "import pandas as pd\n",
    "import torch \n",
    "import numpy as np\n",
    "\n",
    "RATINGS_DATAFILE = 'ml-latest-small/movies.csv'\n",
    "items_info_df = pd.read_csv(RATINGS_DATAFILE)\n",
    "embeddings = torch.nn.init.xavier_uniform_(torch.empty(items_info_df.shape[0], 256))        \n",
    "df = pd.DataFrame({\"id\": np.arange(1, embeddings.shape[0]+1)})\n",
    "df[\"embeddings\"] = list(embeddings.numpy())\n",
    "\n",
    "data = pd.concat([items_info_df['movieId'], df[\"embeddings\"]], axis=1)\n"
   ]
  },
  {
   "cell_type": "code",
   "execution_count": 27,
   "id": "00dddd7f",
   "metadata": {
    "ExecuteTime": {
     "end_time": "2022-07-09T14:07:55.560938Z",
     "start_time": "2022-07-09T14:07:55.550769Z"
    }
   },
   "outputs": [
    {
     "data": {
      "text/plain": [
       "1948"
      ]
     },
     "execution_count": 27,
     "metadata": {},
     "output_type": "execute_result"
    }
   ],
   "source": [
    "data_idx = random.sample(range(0, len(data)), len(data))\n",
    "train_idx = data_idx[round(len(data)*0.2):]\n",
    "valid_idx = data_idx[:round(len(data)*0.2)]"
   ]
  },
  {
   "cell_type": "code",
   "execution_count": 38,
   "id": "9af6fe10",
   "metadata": {
    "ExecuteTime": {
     "end_time": "2022-07-09T14:12:02.057965Z",
     "start_time": "2022-07-09T14:12:02.033315Z"
    }
   },
   "outputs": [
    {
     "data": {
      "text/html": [
       "<div>\n",
       "<style scoped>\n",
       "    .dataframe tbody tr th:only-of-type {\n",
       "        vertical-align: middle;\n",
       "    }\n",
       "\n",
       "    .dataframe tbody tr th {\n",
       "        vertical-align: top;\n",
       "    }\n",
       "\n",
       "    .dataframe thead th {\n",
       "        text-align: right;\n",
       "    }\n",
       "</style>\n",
       "<table border=\"1\" class=\"dataframe\">\n",
       "  <thead>\n",
       "    <tr style=\"text-align: right;\">\n",
       "      <th></th>\n",
       "      <th>movieId</th>\n",
       "      <th>embeddings</th>\n",
       "    </tr>\n",
       "  </thead>\n",
       "  <tbody>\n",
       "    <tr>\n",
       "      <th>8274</th>\n",
       "      <td>105504</td>\n",
       "      <td>[0.0034066834, -0.01689226, -0.023025224, -0.0...</td>\n",
       "    </tr>\n",
       "    <tr>\n",
       "      <th>1358</th>\n",
       "      <td>1855</td>\n",
       "      <td>[0.016052043, -0.019186983, -0.0032890006, 0.0...</td>\n",
       "    </tr>\n",
       "    <tr>\n",
       "      <th>5071</th>\n",
       "      <td>7979</td>\n",
       "      <td>[0.01801409, -0.023844982, -0.00529875, 0.0135...</td>\n",
       "    </tr>\n",
       "    <tr>\n",
       "      <th>1620</th>\n",
       "      <td>2164</td>\n",
       "      <td>[0.008841254, 0.009950692, -0.0076806876, -0.0...</td>\n",
       "    </tr>\n",
       "    <tr>\n",
       "      <th>4539</th>\n",
       "      <td>6732</td>\n",
       "      <td>[-0.019387366, -0.017260643, 0.014342011, 0.01...</td>\n",
       "    </tr>\n",
       "    <tr>\n",
       "      <th>...</th>\n",
       "      <td>...</td>\n",
       "      <td>...</td>\n",
       "    </tr>\n",
       "    <tr>\n",
       "      <th>4093</th>\n",
       "      <td>5856</td>\n",
       "      <td>[0.010499501, 0.0136425, 0.0038410241, 0.01364...</td>\n",
       "    </tr>\n",
       "    <tr>\n",
       "      <th>7119</th>\n",
       "      <td>71057</td>\n",
       "      <td>[-0.015573518, -0.012727161, 0.02143841, -0.02...</td>\n",
       "    </tr>\n",
       "    <tr>\n",
       "      <th>7099</th>\n",
       "      <td>70521</td>\n",
       "      <td>[-0.01642178, 0.013481722, 0.016486583, 0.0039...</td>\n",
       "    </tr>\n",
       "    <tr>\n",
       "      <th>8999</th>\n",
       "      <td>139855</td>\n",
       "      <td>[-0.016278228, -0.017935077, 0.0029905448, -0....</td>\n",
       "    </tr>\n",
       "    <tr>\n",
       "      <th>9217</th>\n",
       "      <td>152037</td>\n",
       "      <td>[0.009654906, -0.0007250666, -0.0061905663, 0....</td>\n",
       "    </tr>\n",
       "  </tbody>\n",
       "</table>\n",
       "<p>7794 rows × 2 columns</p>\n",
       "</div>"
      ],
      "text/plain": [
       "      movieId                                         embeddings\n",
       "8274   105504  [0.0034066834, -0.01689226, -0.023025224, -0.0...\n",
       "1358     1855  [0.016052043, -0.019186983, -0.0032890006, 0.0...\n",
       "5071     7979  [0.01801409, -0.023844982, -0.00529875, 0.0135...\n",
       "1620     2164  [0.008841254, 0.009950692, -0.0076806876, -0.0...\n",
       "4539     6732  [-0.019387366, -0.017260643, 0.014342011, 0.01...\n",
       "...       ...                                                ...\n",
       "4093     5856  [0.010499501, 0.0136425, 0.0038410241, 0.01364...\n",
       "7119    71057  [-0.015573518, -0.012727161, 0.02143841, -0.02...\n",
       "7099    70521  [-0.01642178, 0.013481722, 0.016486583, 0.0039...\n",
       "8999   139855  [-0.016278228, -0.017935077, 0.0029905448, -0....\n",
       "9217   152037  [0.009654906, -0.0007250666, -0.0061905663, 0....\n",
       "\n",
       "[7794 rows x 2 columns]"
      ]
     },
     "execution_count": 38,
     "metadata": {},
     "output_type": "execute_result"
    }
   ],
   "source": [
    "data.iloc[train_idx]"
   ]
  }
 ],
 "metadata": {
  "kernelspec": {
   "display_name": "Python 3 (ipykernel)",
   "language": "python",
   "name": "python3"
  },
  "language_info": {
   "codemirror_mode": {
    "name": "ipython",
    "version": 3
   },
   "file_extension": ".py",
   "mimetype": "text/x-python",
   "name": "python",
   "nbconvert_exporter": "python",
   "pygments_lexer": "ipython3",
   "version": "3.9.12"
  }
 },
 "nbformat": 4,
 "nbformat_minor": 5
}
