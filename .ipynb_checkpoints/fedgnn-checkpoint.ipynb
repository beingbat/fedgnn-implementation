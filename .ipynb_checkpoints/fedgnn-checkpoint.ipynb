{
 "cells": [
  {
   "cell_type": "markdown",
   "id": "10fb4df8",
   "metadata": {
    "ExecuteTime": {
     "end_time": "2022-06-12T14:19:17.329920Z",
     "start_time": "2022-06-12T14:19:17.328039Z"
    }
   },
   "source": [
    "## GAT IMPLEMENTATION"
   ]
  },
  {
   "cell_type": "code",
   "execution_count": 1,
   "id": "2582a04b",
   "metadata": {
    "ExecuteTime": {
     "end_time": "2022-07-27T18:33:17.439730Z",
     "start_time": "2022-07-27T18:33:17.433364Z"
    }
   },
   "outputs": [],
   "source": [
    "TOTAL_CLIENTS = 610\n",
    "TRAIN_CLIENTS_RATIO = 0.7\n",
    "VALIDATION_RATIO = 0.2\n",
    "ROUND_CLIENTS = 128\n",
    "\n",
    "MINI_BATCH_SIZE = 32\n",
    "LR = 0.01\n",
    "INPUT_CHANNELS = 256\n",
    "HIDDEN_CHANNELS = 256\n",
    "USER_EMBEDDING_SIZE = 1 \n",
    "\n",
    "ROUNDS = 6\n",
    "EPOCHS = 3\n",
    "\n",
    "\n",
    "INCLUDE_NEIGHBORS = True\n",
    "NEIGHBORS_THRESHOLD = 2\n",
    "\n",
    "# 100k Ratings Dataset\n",
    "RATINGS_DATAFILE = 'ml-latest-small/ratings.csv'\n",
    "MOVIES_INFO_DATAFILE = 'ml-latest-small/movies.csv'"
   ]
  },
  {
   "cell_type": "code",
   "execution_count": 2,
   "id": "a76ccd75",
   "metadata": {
    "ExecuteTime": {
     "end_time": "2022-07-27T18:33:18.214656Z",
     "start_time": "2022-07-27T18:33:17.440785Z"
    }
   },
   "outputs": [],
   "source": [
    "import torch\n",
    "import torch.nn as nn\n",
    "import torch.nn.functional as F\n",
    "from torch_geometric.nn import GATv2Conv, GATConv\n",
    "from torch.autograd import Variable\n",
    "from torch_geometric.data import Data\n",
    "\n",
    "import numpy as np\n",
    "import pandas as pd\n",
    "import random"
   ]
  },
  {
   "cell_type": "code",
   "execution_count": 3,
   "id": "cbe8428d",
   "metadata": {
    "ExecuteTime": {
     "end_time": "2022-07-27T18:33:18.219342Z",
     "start_time": "2022-07-27T18:33:18.215587Z"
    }
   },
   "outputs": [],
   "source": [
    "class GAT(torch.nn.Module):\n",
    "    \n",
    "    def __init__(self):\n",
    "        super(GAT, self).__init__()\n",
    "        self.hidden_channels = INPUT_CHANNELS\n",
    "        self.input_channels = HIDDEN_CHANNELS\n",
    "        self.headsv1 = 1\n",
    "        self.headsv2 = 1\n",
    " \n",
    "        self.conv1 = GATConv(in_channels=self.input_channels, out_channels=self.hidden_channels,\n",
    "                           heads=self.headsv1, dropout=0.2)\n",
    "        ####\n",
    "#         self.conv2 = GATv2Conv(in_channels=self.hidden_channels*self.headsv1, out_channels=self.hidden_channels,\n",
    "#                              heads=self.headsv2, dropout=0.2)\n",
    "        ####\n",
    "        \n",
    "    def forward(self, data, item_len):\n",
    "        x, edge_index = data.x, data.edge_index  \n",
    "        x_in = Variable(x, requires_grad=True)\n",
    "        x = F.dropout(x_in, p=0.2, training=self.training) \n",
    "        x = self.conv1(x, edge_index)                   \n",
    "        x = F.elu(x)\n",
    "        \n",
    "        ###\n",
    "#         x = F.dropout(x, p=0.2, training=self.training)\n",
    "#         x = self.conv2(x, edge_index)\n",
    "#         x = F.elu(x)\n",
    "        ###\n",
    "        \n",
    "        y = x[0,:] * x[1:item_len,:]\n",
    "        y = torch.sum(y, dim=1, dtype=float)\n",
    "        y = F.elu(y)\n",
    "        y.retain_grad()\n",
    "        return x_in, y\n",
    "    \n",
    "    "
   ]
  },
  {
   "cell_type": "markdown",
   "id": "2cbecf68",
   "metadata": {},
   "source": [
    "## Federated Pipeline"
   ]
  },
  {
   "cell_type": "code",
   "execution_count": 4,
   "id": "9f321564",
   "metadata": {
    "ExecuteTime": {
     "end_time": "2022-07-27T18:33:18.232197Z",
     "start_time": "2022-07-27T18:33:18.220422Z"
    }
   },
   "outputs": [],
   "source": [
    "class FederatedNetwork:\n",
    "    \n",
    "    def __init__(self, initial_weights, device):\n",
    "        self.model = None\n",
    "        self.optimizer = None\n",
    "        self.criterion = None\n",
    "        self.device = device\n",
    "#         self.preivous_weights=None\n",
    "        self.initialize_model(initial_weights)\n",
    "        \n",
    "    def initialize_model(self, initial_weights):\n",
    "        self.model = GAT().to(self.device)\n",
    "        if initial_weights != None:\n",
    "            self.model.load_state_dict(initial_weights)\n",
    "        self.optimizer = torch.optim.Adam(self.model.parameters(), lr=LR, weight_decay=5e-4)\n",
    "#         self.optimizer = torch.optim.SGD(self.model.parameters(), lr=LR, momentum=0.9)\n",
    "\n",
    "        self.criterion = nn.MSELoss()  #Square Root taken later in training to make RMSE\n",
    "        "
   ]
  },
  {
   "cell_type": "code",
   "execution_count": 5,
   "id": "03a70480",
   "metadata": {
    "ExecuteTime": {
     "end_time": "2022-07-27T18:33:18.251122Z",
     "start_time": "2022-07-27T18:33:18.235445Z"
    }
   },
   "outputs": [],
   "source": [
    "class Client(FederatedNetwork):\n",
    "   \n",
    "    def __init__(self, client_id, items_rated_df, all_items_embeddings_df, initial_weights, device):\n",
    "        super().__init__(initial_weights, device)\n",
    "        self.id = client_id\n",
    "        \n",
    "        self.items_rated_df = items_rated_df\n",
    "        self.all_items_embeddings_df = all_items_embeddings_df\n",
    "        self.rated_items_embeddings_df = None\n",
    "        self.user_embeddings = None\n",
    "        \n",
    "        self.train_idx = None\n",
    "        self.val_idx = None\n",
    "        \n",
    "        self.train_graph = None\n",
    "        self.train_y = None\n",
    "        self.val_graph = None\n",
    "        self.val_y = None\n",
    "        \n",
    "        self.train_x_df = None\n",
    "        self.valid_x_df = None\n",
    "        self.train_y_df = None\n",
    "        self.valid_y_df = None\n",
    "        \n",
    "        \n",
    "        self.neighbors = None\n",
    "        \n",
    "        self.initialize_client()\n",
    "        \n",
    "        \n",
    "    def find_splits(self):\n",
    "        data_len = len(self.items_rated_df)\n",
    "        data_idx = random.sample(range(0, data_len), \n",
    "                                 data_len)\n",
    "        train_idx = data_idx[round(data_len*VALIDATION_RATIO):]\n",
    "        valid_idx = data_idx[:round(data_len*VALIDATION_RATIO)]\n",
    "        \n",
    "\n",
    "        return train_idx, valid_idx\n",
    "        \n",
    "        \n",
    "    def initialize_client(self):\n",
    "        self.user_embeddings = torch.nn.init.xavier_uniform_(torch.empty(USER_EMBEDDING_SIZE, 256))\n",
    "        self.train_idx, self.valid_idx = self.find_splits()\n",
    "        \n",
    "        self.split_data_and_create_graphs()\n",
    "        \n",
    "    \n",
    "    def split_data_and_create_graphs(self):\n",
    "        \n",
    "        self.rated_items_embeddings_df = self.all_items_embeddings_df[\n",
    "            self.all_items_embeddings_df['movieId'].isin(self.items_rated_df[\"movieId\"])]\n",
    "        \n",
    "        self.train_x_df = self.rated_items_embeddings_df.iloc[self.train_idx]\n",
    "#         if self.valid_x_df == None:\n",
    "        self.valid_x_df = self.rated_items_embeddings_df.iloc[self.valid_idx]\n",
    "        self.train_y_df = self.items_rated_df.iloc[self.train_idx]\n",
    "        self.valid_y_df = self.items_rated_df.iloc[self.valid_idx]\n",
    "        \n",
    "        self.create_graph_data()\n",
    "    \n",
    "        \n",
    "    def create_graph_data(self):\n",
    "        x, y, edge_index = self.convert_df_to_graph(self.train_y_df, self.train_x_df)\n",
    "        self.train_graph = Data(x=x, edge_index=edge_index).to(self.device)\n",
    "        self.train_y = y\n",
    "        \n",
    "        x, y, edge_index = self.convert_df_to_graph(self.valid_y_df, self.valid_x_df)\n",
    "        self.val_graph = Data(x=x, edge_index=edge_index).to(self.device)\n",
    "        self.val_y = y\n",
    "        \n",
    "        \n",
    "    def convert_df_to_graph(self, items_rated_df, rated_items_embeddings_df):\n",
    "        \n",
    "        edges_start = [0]*(len(items_rated_df)) + [i for i in range(1, len(items_rated_df)+1)]\n",
    "        edges_end = [i for i in range(1, len(items_rated_df)+1)]+[0]*(len(items_rated_df)) \n",
    "        \n",
    "        if self.neighbors != None and INCLUDE_NEIGHBORS:\n",
    "            edges_start += [0]*(len(self.neighbors)) + [i for i in range(len(items_rated_df)+1, \n",
    "                                                            len(items_rated_df)+1+len(self.neighbors))]\n",
    "            edges_end += [i for i in range(len(items_rated_df)+1,\n",
    "                                len(items_rated_df)+1+len(self.neighbors))] + [0]*(len(self.neighbors))\n",
    "        \n",
    "        edge_index = torch.tensor([edges_start, edges_end], dtype=torch.long)\n",
    "        \n",
    "        x = [self.user_embeddings.numpy()[0], ] #User Embeddings\n",
    "        embeddings_col = rated_items_embeddings_df['embeddings'].values\n",
    "        x += [val for val in embeddings_col]   #Item Embeddings\n",
    "\n",
    "        if self.neighbors != None and INCLUDE_NEIGHBORS:\n",
    "            x += self.neighbors\n",
    "            \n",
    "        x = torch.tensor(np.array(x), dtype=torch.float) #Converting embeddings array into tensor\n",
    "        \n",
    "        y = torch.tensor(items_rated_df['rating'].values)\n",
    "        \n",
    "        return x, y, edge_index\n",
    "    \n",
    "    \n",
    "    def update_to_global_weights(self, weights):\n",
    "        self.model.load_state_dict(weights)\n",
    "    \n",
    "    \n",
    "    def train_model(self, lr=LR):\n",
    "        self.model.train()\n",
    "        for epoch in range(EPOCHS):\n",
    "            self.optimizer.zero_grad()\n",
    "            x, out = self.model(self.train_graph, len(self.train_x_df)+1)\n",
    "            loss = torch.sqrt(self.criterion(out, self.train_y))            \n",
    "            loss.backward()\n",
    "            torch.nn.utils.clip_grad_norm_(self.model.parameters(), 0.1)\n",
    "            self.optimizer.step()  \n",
    "            self.train_graph.x -= lr*x.grad\n",
    "            \n",
    "        self.update_df_embeddings_from_train_graph()\n",
    "        \n",
    "        return loss\n",
    "    \n",
    "    def train_user_embeddings(self, lr=LR):\n",
    "        self.model.train()\n",
    "        for epoch in range(EPOCHS):\n",
    "            x, out = self.model(self.train_graph, len(self.train_x_df)+1)\n",
    "            loss = torch.sqrt(self.criterion(out, self.train_y))            \n",
    "            loss.backward()\n",
    "            self.train_graph.x[0] -= lr*x.grad[0]\n",
    "#             print(self.train_graph.x[0])\n",
    "\n",
    "        self.user_embedding = self.train_graph.x[0]\n",
    "\n",
    "        return loss\n",
    "    \n",
    "    def get_item_ids(self):\n",
    "        return self.rated_items_embeddings_df['movieId'].values\n",
    "    \n",
    "    \n",
    "    def update_df_embeddings_from_train_graph(self):\n",
    "        self.user_embedding = self.train_graph.x[0]\n",
    "        self.val_graph.x[0] = self.train_graph.x[0]\n",
    "        for i in range(1, len(self.train_x_df)):\n",
    "            index = self.all_items_embeddings_df.index[\n",
    "                self.all_items_embeddings_df['movieId'] == self.rated_items_embeddings_df.iloc[i-1]['movieId']]\n",
    "            self.rated_items_embeddings_df.iat[i-1, 1] =  self.train_graph.x[i]\n",
    "            self.all_items_embeddings_df.iat[index[0], 1] =  self.train_graph.x[i].numpy()\n",
    "            \n",
    "            \n",
    "    def get_item_embeddings(self):\n",
    "        return self.all_items_embeddings_df\n",
    "    \n",
    "        \n",
    "    def item_count(self):\n",
    "        return len(self.rated_items_embeddings_df)\n",
    "    \n",
    "    \n",
    "    def update_to_global_embeddings(self, items_embeddings):\n",
    "        self.all_items_embeddings_df = items_embeddings\n",
    "        self.split_data_and_create_graphs()\n",
    "    \n",
    "    \n",
    "    def evaluate_model(self, model=None):\n",
    "        data = self.val_graph\n",
    "\n",
    "        if model == None:\n",
    "            model = self.model\n",
    "\n",
    "        model.eval()\n",
    "        \n",
    "        _, pred = model(data, len(self.valid_x_df)+1)\n",
    "        pred = torch.round(2*pred.data)/2\n",
    "        \n",
    "        loss = torch.sqrt(self.criterion(pred, self.val_y))  \n",
    "\n",
    "        correct = float(pred.eq(self.val_y).sum().item())\n",
    "        acc = correct / len(self.val_y)\n",
    "\n",
    "        return acc, loss\n",
    "    \n",
    "    def include_neighbors(self, neighbors_embeddings):\n",
    "        self.neighbors = neighbors_embeddings\n",
    "        "
   ]
  },
  {
   "cell_type": "code",
   "execution_count": 6,
   "id": "f38451f7",
   "metadata": {
    "ExecuteTime": {
     "end_time": "2022-07-27T18:33:18.263593Z",
     "start_time": "2022-07-27T18:33:18.253691Z"
    },
    "scrolled": true
   },
   "outputs": [],
   "source": [
    "class Initializer:\n",
    "\n",
    "    def __init__(self, device, initial_weights):\n",
    "        \n",
    "        #2-col df_items_embeddings with movieId and embeddings\n",
    "        self.items_embeddings_df = None\n",
    "        \n",
    "        #all columns from ratings.csv\n",
    "        self.items_ratings_df = None\n",
    "        \n",
    "        #all columns from movies.csv file\n",
    "        self.items_info_df = None        \n",
    "        self.clients = None\n",
    "\n",
    "        self.train_clients_idx = None\n",
    "        self.test_clients_idx = None\n",
    "        self.initial_weights = initial_weights\n",
    "        \n",
    "        self.device = device\n",
    "        self.generate_items_embeddings()\n",
    "        self.initialize_clients()\n",
    "        \n",
    "        self.client_user_embeddings = None\n",
    "\n",
    "    def initialize_clients(self):\n",
    "        self.items_ratings_df = pd.read_csv(RATINGS_DATAFILE)\n",
    "        self.items_ratings_df.drop('timestamp', inplace=True, axis=1)\n",
    "        \n",
    "        # RANDOMLY SELECTING TEST/TRAIN CLIENTS\n",
    "        clients_idx =  random.sample(range(1, TOTAL_CLIENTS+1), TOTAL_CLIENTS)\n",
    "        split_index = round(TOTAL_CLIENTS*TRAIN_CLIENTS_RATIO)\n",
    "        self.train_clients_idx = clients_idx[:split_index]\n",
    "        self.test_clients_idx = clients_idx[split_index:]\n",
    "        self.clients = [Client(client_id=user_idx, \n",
    "                              items_rated_df=self.items_ratings_df[self.items_ratings_df['userId'] == user_idx], \n",
    "                              all_items_embeddings_df = self.items_embeddings_df, \n",
    "                              initial_weights=self.initial_weights,\n",
    "                              device = device) for user_idx in self.train_clients_idx]\n",
    "                        \n",
    "        return self.clients\n",
    "    \n",
    "    def initialize_clients_for_induction(self):\n",
    "        return [Client(client_id=user_idx, \n",
    "                              items_rated_df=self.items_ratings_df[self.items_ratings_df['userId'] == user_idx], \n",
    "                              all_items_embeddings_df = self.items_embeddings_df, \n",
    "                              initial_weights=self.initial_weights,\n",
    "                              device = device) for user_idx in self.test_clients_idx]\n",
    "    \n",
    "        \n",
    "    def generate_items_embeddings(self):\n",
    "        self.items_info_df = pd.read_csv(MOVIES_INFO_DATAFILE)\n",
    "        \n",
    "        # Initialize weights with xavier uniform\n",
    "        embeddings = torch.nn.init.xavier_uniform_(torch.empty(self.items_info_df.shape[0], 256))\n",
    "        \n",
    "        # Creating 1-col df for embeddings\n",
    "        df = pd.DataFrame({\"id\": np.arange(1, embeddings.shape[0]+1)})\n",
    "        df[\"embeddings\"] = list(embeddings.numpy())\n",
    "        \n",
    "        # Creating 2-col df items_embeddings with movieId and embeddings\n",
    "        self.items_embeddings_df = pd.concat([self.items_info_df['movieId'], df[\"embeddings\"]], axis=1)\n",
    "    \n",
    "    def get_items_embeddings(self):\n",
    "        return self.get_item_embeddings_df\n",
    "    \n",
    "    \n",
    "    def include_neighbors_embeddings(self):\n",
    "            \n",
    "        neighbor_user_embeddings_dict = dict()\n",
    "        for client_index1 in range(len(self.clients)):\n",
    "            item_ids = self.clients[client_index1].get_item_ids()\n",
    "            for client_index2 in range(client_index1+1, len(self.clients)):\n",
    "                item_ids_2 = self.clients[client_index2].get_item_ids()\n",
    "                for item_id in item_ids:\n",
    "                    if item_id in item_ids_2:\n",
    "                        if client_index1 in neighbor_user_embeddings_dict:\n",
    "                            neighbor_user_embeddings_dict[client_index1] += [\n",
    "                                self.clients[client_index2].user_embeddings.numpy()[0]]\n",
    "                        else:\n",
    "                            neighbor_user_embeddings_dict[client_index1] = [\n",
    "                                self.clients[client_index2].user_embeddings.numpy()[0]]\n",
    "                        if client_index2 in neighbor_user_embeddings_dict:\n",
    "                            neighbor_user_embeddings_dict[client_index2] += [\n",
    "                                self.clients[client_index1].user_embeddings.numpy()[0]]\n",
    "                        else:\n",
    "                            neighbor_user_embeddings_dict[client_index2] = [\n",
    "                                self.clients[client_index1].user_embeddings.numpy()[0]]\n",
    "                        break\n",
    "                    \n",
    "        for client_id in neighbor_user_embeddings_dict:\n",
    "            self.clients[client_id].include_neighbors(neighbor_user_embeddings_dict[client_id])\n",
    "            "
   ]
  },
  {
   "cell_type": "markdown",
   "id": "08ff49fb",
   "metadata": {},
   "source": [
    "## Driver Code for Training and Evaluation"
   ]
  },
  {
   "cell_type": "code",
   "execution_count": 7,
   "id": "54c9bed5",
   "metadata": {
    "ExecuteTime": {
     "end_time": "2022-07-27T18:33:19.476956Z",
     "start_time": "2022-07-27T18:33:18.265028Z"
    }
   },
   "outputs": [
    {
     "name": "stdout",
     "output_type": "stream",
     "text": [
      "Data(x=[291, 256], edge_index=[2, 580])\n"
     ]
    }
   ],
   "source": [
    "device = torch.device('cuda' if torch.cuda.is_available() else 'cpu')\n",
    "global_model = GAT().to(device)\n",
    "initializer = Initializer(device=device, initial_weights=global_model.state_dict())\n",
    "print(initializer.clients[0].train_graph)"
   ]
  },
  {
   "cell_type": "code",
   "execution_count": 8,
   "id": "c0267b2f",
   "metadata": {
    "ExecuteTime": {
     "end_time": "2022-07-27T18:34:26.594232Z",
     "start_time": "2022-07-27T18:33:19.478477Z"
    },
    "scrolled": false
   },
   "outputs": [
    {
     "name": "stdout",
     "output_type": "stream",
     "text": [
      "\n",
      "\n",
      "Round:  0\n",
      "Validation Accuracy [Global Model][All Clients]: 0.0000\n",
      "Validation Accuracy [Local Model][All Clients]:  0.0468\n",
      "Training Loss [Local Model][Train Clients]: 5.6927\n",
      "Validation Loss [Global Model][All Clients]: 12.5646\n",
      "\n",
      "\n",
      "Round:  1\n",
      "Validation Accuracy [Global Model][All Clients]: 0.0000\n",
      "Validation Accuracy [Local Model][All Clients]:  0.0619\n",
      "Training Loss [Local Model][Train Clients]: 4.8857\n",
      "Validation Loss [Global Model][All Clients]: 12.5646\n",
      "\n",
      "\n",
      "Round:  2\n",
      "Validation Accuracy [Global Model][All Clients]: 0.0273\n",
      "Validation Accuracy [Local Model][All Clients]:  0.0300\n",
      "Training Loss [Local Model][Train Clients]: 5.3951\n",
      "Validation Loss [Global Model][All Clients]: 11.4862\n",
      "\n",
      "\n",
      "Round:  3\n",
      "Validation Accuracy [Global Model][All Clients]: 0.0486\n",
      "Validation Accuracy [Local Model][All Clients]:  0.0880\n",
      "Training Loss [Local Model][Train Clients]: 3.1911\n",
      "Validation Loss [Global Model][All Clients]: 10.5485\n",
      "\n",
      "\n",
      "Round:  4\n",
      "Validation Accuracy [Global Model][All Clients]: 0.0649\n",
      "Validation Accuracy [Local Model][All Clients]:  0.1135\n",
      "Training Loss [Local Model][Train Clients]: 2.8883\n",
      "Validation Loss [Global Model][All Clients]: 8.5077\n",
      "\n",
      "\n",
      "Round:  5\n",
      "Validation Accuracy [Global Model][All Clients]: 0.1611\n",
      "Validation Accuracy [Local Model][All Clients]:  0.1373\n",
      "Training Loss [Local Model][Train Clients]: 2.0183\n",
      "Validation Loss [Global Model][All Clients]: 6.8031\n"
     ]
    }
   ],
   "source": [
    "\n",
    "lost = []\n",
    "train_lost=[]\n",
    "\n",
    "for training_round in range(ROUNDS):\n",
    "    total_items = 0\n",
    "    weights = []\n",
    "    embeddings = [] \n",
    "    items_rated = []\n",
    "    losses = []\n",
    "    \n",
    "    if training_round == NEIGHBORS_THRESHOLD:\n",
    "        initializer.include_neighbors_embeddings()\n",
    "    \n",
    "    selected_clients = random.sample(range(0, len(initializer.clients)), ROUND_CLIENTS)\n",
    "    \n",
    "    #TRAIN THE NETWORK\n",
    "    for client_idx in selected_clients:\n",
    "        losses.append(initializer.clients[client_idx].train_model())\n",
    "        total_items += initializer.clients[client_idx].item_count()\n",
    "        weights.append(initializer.clients[client_idx].model.state_dict())\n",
    "        embeddings.append(initializer.clients[client_idx].get_item_embeddings())\n",
    "        items_rated.append(initializer.clients[client_idx].item_count())\n",
    "    \n",
    "    \n",
    "    #UPDATE GLOBAL MODEL\n",
    "\n",
    "    #WEIGHTED AVERAGE: \n",
    "    new_parameters = global_model.state_dict()\n",
    "    for key in new_parameters:\n",
    "        new_parameters[key] = weights[0][key]\n",
    "        for i in range(1, len(weights)):\n",
    "            new_parameters[key] += weights[i][key]*(items_rated[i])\n",
    "        new_parameters[key]/=float(total_items)\n",
    "        \n",
    "\n",
    "    global_model.load_state_dict(new_parameters)\n",
    "    \n",
    "    \n",
    "    #UPDATE GLOBAL EMBEDDINGS    \n",
    "    df = pd.concat(i for i in embeddings)\n",
    "    global_embeddings = df.groupby(by=\"movieId\", as_index=False).mean()\n",
    "    global_embeddings.reset_index()\n",
    "\n",
    "    \n",
    "    # EVALUATE\n",
    "    acc = 0\n",
    "    l_acc = 0\n",
    "    g_loss = 0\n",
    "    l_loss = 0\n",
    "    for client in initializer.clients:\n",
    "        acc_temp, g_loss_temp = client.evaluate_model(global_model)\n",
    "        l_acc_temp, l_loss_temp = client.evaluate_model()\n",
    "        acc += acc_temp\n",
    "        g_loss += g_loss_temp\n",
    "        l_acc += l_acc_temp\n",
    "        l_loss += l_loss_temp\n",
    "    loss = 0\n",
    "    for i in losses:\n",
    "        loss += i\n",
    "    loss/=ROUND_CLIENTS\n",
    "    \n",
    "    \n",
    "    print(\"\\n\\nRound: \", training_round)\n",
    "    print('Validation Accuracy [Global Model][All Clients]: {:.4f}'.format(acc/ROUND_CLIENTS))\n",
    "    print('Validation Accuracy [Local Model][All Clients]:  {:.4f}'.format(l_acc/ROUND_CLIENTS))\n",
    "\n",
    "    print('Training Loss [Local Model][Train Clients]: {:.4f}'.format(loss.item()))\n",
    "    print('Validation Loss [Global Model][All Clients]: {:.4f}'.format(g_loss.item()/ROUND_CLIENTS))\n",
    "#     print('Local Valid Loss: {:.4f}'.format(l_loss.item()/ROUND_CLIENTS))\n",
    "    lost.append(g_loss.item()/ROUND_CLIENTS)\n",
    "    train_lost.append(loss.item())\n",
    "\n",
    "\n",
    "    initializer.items_embeddings_df = global_embeddings\n",
    "    # UPDATE LOCAL CLIENTS\n",
    "    for client in initializer.clients:\n",
    "        client.update_to_global_weights(global_model.state_dict())\n",
    "        client.update_to_global_embeddings(global_embeddings)\n"
   ]
  },
  {
   "cell_type": "code",
   "execution_count": 9,
   "id": "74755f23",
   "metadata": {
    "ExecuteTime": {
     "end_time": "2022-07-27T18:34:27.463669Z",
     "start_time": "2022-07-27T18:34:26.596310Z"
    }
   },
   "outputs": [
    {
     "data": {
      "image/png": "[encoded data removed]",
      "text/plain": [
       "<Figure size 432x288 with 1 Axes>"
      ]
     },
     "metadata": {
      "needs_background": "light"
     },
     "output_type": "display_data"
    }
   ],
   "source": [
    "#PRINT LOSS GRAPH\n",
    "import matplotlib.pyplot as plt\n",
    "epochs = range(ROUNDS)\n",
    "plt.plot(epochs, train_lost, 'g', label='Training Loss [Local Model][Train Clients]')\n",
    "plt.plot(epochs, lost, 'b', label='Validation Loss [Global Model][All Clients]')\n",
    "plt.title('Training Loss')\n",
    "plt.xlabel('Epochs')\n",
    "plt.ylabel('Loss')\n",
    "plt.xlim([0, ROUNDS])\n",
    "plt.ylim([0, 15])\n",
    "plt.legend()\n",
    "plt.show()"
   ]
  },
  {
   "cell_type": "code",
   "execution_count": 10,
   "id": "a5ce2a9e",
   "metadata": {
    "ExecuteTime": {
     "end_time": "2022-07-27T18:34:28.371291Z",
     "start_time": "2022-07-27T18:34:27.466175Z"
    }
   },
   "outputs": [
    {
     "name": "stdout",
     "output_type": "stream",
     "text": [
      "Initial:\n",
      "Accuracy:  0.023395534981152474 \n",
      "Loss:  0.023395534981152474\n"
     ]
    }
   ],
   "source": [
    "test_clients = initializer.initialize_clients_for_induction()\n",
    "test_acc_l = []\n",
    "test_loss_l = []\n",
    "for client in test_clients:\n",
    "    client.model.load_state_dict(global_model.state_dict())\n",
    "    test_acc, test_loss = client.evaluate_model()\n",
    "    test_acc_l.append(test_acc)\n",
    "    test_loss_l.append(test_loss)\n",
    "print(\"Initial:\\nAccuracy: \", np.array(test_acc_l).mean(), \"\\nLoss: \", np.array(test_acc_l).mean())"
   ]
  },
  {
   "cell_type": "code",
   "execution_count": 11,
   "id": "7e405780",
   "metadata": {
    "ExecuteTime": {
     "end_time": "2022-07-27T18:35:04.729063Z",
     "start_time": "2022-07-27T18:34:28.372808Z"
    }
   },
   "outputs": [
    {
     "data": {
      "image/png": "[encoded data removed]",
      "text/plain": [
       "<Figure size 432x288 with 1 Axes>"
      ]
     },
     "metadata": {
      "needs_background": "light"
     },
     "output_type": "display_data"
    }
   ],
   "source": [
    "test_loss = []\n",
    "INDUCTIVE_ROUNDS = 25\n",
    "for i in range(INDUCTIVE_ROUNDS):\n",
    "    test_loss.append(np.array([test_client.train_user_embeddings().detach().numpy() for test_client in test_clients]).mean())\n",
    "\n",
    "plt.plot(range(INDUCTIVE_ROUNDS), test_loss, 'r', label='Test Loss [Local Model] [Train Data]')\n",
    "plt.title('Inductive Learning Loss')\n",
    "plt.xlabel('Rounds')\n",
    "plt.ylabel('Loss')\n",
    "plt.xlim([0, INDUCTIVE_ROUNDS])\n",
    "plt.ylim([0, 5])\n",
    "plt.legend()\n",
    "plt.show()"
   ]
  },
  {
   "cell_type": "code",
   "execution_count": 12,
   "id": "d835cb5c",
   "metadata": {
    "ExecuteTime": {
     "end_time": "2022-07-27T18:35:04.887582Z",
     "start_time": "2022-07-27T18:35:04.730534Z"
    }
   },
   "outputs": [
    {
     "name": "stdout",
     "output_type": "stream",
     "text": [
      "Final:\n",
      "Accuracy:  0.023395534981152474 \n",
      "Loss:  0.023395534981152474\n"
     ]
    }
   ],
   "source": [
    "test_acc_l = []\n",
    "test_loss_l = []\n",
    "for client in test_clients:\n",
    "    client.model.load_state_dict(global_model.state_dict())\n",
    "    test_acc, test_loss = client.evaluate_model()\n",
    "    test_acc_l.append(test_acc)\n",
    "    test_loss_l.append(test_loss)\n",
    "print(\"Final:\\nAccuracy: \", np.array(test_acc_l).mean(), \"\\nLoss: \", np.array(test_acc_l).mean())"
   ]
  },
  {
   "cell_type": "markdown",
   "id": "c360c20d",
   "metadata": {},
   "source": [
    "- During each epoch of the round, client should have created mini-bacthes of data on which model is trained (all mini-batches iterated in one epoch) [and they are averaged in the end of epoch and gradients of model are updated]\n",
    "\n"
   ]
  },
  {
   "cell_type": "markdown",
   "id": "acd792c6",
   "metadata": {},
   "source": [
    "#### Self Notes:\n",
    "\n",
    "- Xavier Uniform is used for weights initialization\n",
    "- Node Ids are random i.e. same items don't have same id in different graphs\n",
    "- How many times to include a neighbor (if there are more than one items in common)? currently: only once\n",
    "\n",
    "\n",
    "#### FedGNN Paper Notes:\n",
    "\n",
    "- In our experiments, we use graph attention network (GAT) [28] as the GNN model, \n",
    "\n",
    "- and use dot product to implement the rating predictor. \n",
    "\n",
    "- The user and item embeddings and their hidden representations learned by graph neural networks are 256-dim. \n",
    "\n",
    "- The gradient clipping threshold 𝛿 is set to 0.1\n",
    "\n",
    "- The number of users used in each round of model training is 128, \n",
    "\n",
    "- and the total number of epoch is 3. \n",
    "\n",
    "- The ratio of dropout [25] is 0.2. \n",
    "\n",
    "- Its learning rate is 0.01. \n",
    "\n",
    "- The metric used in our experiments is rooted mean square error (RMSE), \n",
    "\n",
    "- FedAVG is used as aggregator\n",
    "\n",
    "- The splits of datasets are the same as those used in [2], and these hyperparameters are selected according to the validation performance.\n",
    "\n",
    "- Randomize clients subset in each round. \n",
    "\n",
    "- SGD is selected as the optimization algorithm (using Adam because this gets stuck)\n",
    "\n",
    "- The round threshold 𝑇 is 2 for using neighboring users embeddings.\n",
    "\n",
    "\n",
    "- **TODO** Create data mini-batches for training\n",
    "\n",
    "- **TODO** the strength of Laplacian noise in the LDP module is set to 0.2 to achieve 1-differential privacy. \n",
    "\n",
    "- **TODO** The number of pseudo interacted items is set to 1,000.\n",
    "\n",
    "- **TODO** We report the average RMSE scores over the 10 repetitions.\n",
    "\n",
    "#### Learning on un trained client\n",
    "\n",
    "- **TODO** Write routine to learn user embedding from item embeddings\n",
    "\n",
    "#### Pseudo Interacted Items:\n",
    "\n",
    "- Concretely, we sample 𝑀 items that the user has not interacted with5 , and randomly generate their gradients g𝑖 using a Gaussian distribution with the same mean and co-variance values with the real item embedding gradients. The real embedding gradients g𝑖𝑒 are combined with the pseudo item 𝑝 embedding gradients g𝑖"
   ]
  },
  {
   "cell_type": "code",
   "execution_count": null,
   "id": "7b4eb4e2",
   "metadata": {},
   "outputs": [],
   "source": []
  }
 ],
 "metadata": {
  "kernelspec": {
   "display_name": "Python 3 (ipykernel)",
   "language": "python",
   "name": "python3"
  },
  "language_info": {
   "codemirror_mode": {
    "name": "ipython",
    "version": 3
   },
   "file_extension": ".py",
   "mimetype": "text/x-python",
   "name": "python",
   "nbconvert_exporter": "python",
   "pygments_lexer": "ipython3",
   "version": "3.9.12"
  }
 },
 "nbformat": 4,
 "nbformat_minor": 5
}
